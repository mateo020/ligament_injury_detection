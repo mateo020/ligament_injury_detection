{
 "cells": [
  {
   "cell_type": "code",
   "execution_count": null,
   "metadata": {},
   "outputs": [],
   "source": [
    "from typing import List\n",
    "import torch \n",
    "import torch.utils.data\n",
    "import torchvision\n",
    "from PIL import Image\n",
    "from labml import lab, tracker, experiment, monit\n",
    "from labml.configs import BaseConfigs, option\n",
    "from labml_helpers.device import DeviceConfigs\n",
    "from labml_nn.diffusion.ddpm import DenoiseDiffusion \n",
    "from labml_nn.diffusion.ddpm.unet import UNet\n"
   ]
  },
  {
   "cell_type": "code",
   "execution_count": null,
   "metadata": {},
   "outputs": [],
   "source": [
    "class Configs(BaseConfigs):\n",
    "    device: torch.device = DeviceConfigs()\n",
    "    eps_model: UNet\n",
    "    diffusion: DenoiseDiffusion \n",
    "    image_channels: int = 1\n",
    "    image_size: int = 32\n",
    "    n_channels: int = 64\n",
    "    channel_multipliers\n",
    "\n"
   ]
  }
 ],
 "metadata": {
  "language_info": {
   "name": "python"
  }
 },
 "nbformat": 4,
 "nbformat_minor": 2
}
